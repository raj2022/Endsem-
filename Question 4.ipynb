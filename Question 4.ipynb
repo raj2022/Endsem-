{
 "cells": [
  {
   "cell_type": "code",
   "execution_count": 1,
   "id": "7e2bc70c",
   "metadata": {},
   "outputs": [
    {
     "data": {
      "text/plain": [
       "'I1: '"
      ]
     },
     "metadata": {},
     "output_type": "display_data"
    },
    {
     "data": {
      "image/png": "[encoded data removed]",
      "text/latex": [
       "$\\displaystyle 2 a_{0} + \\frac{2 a_{2}}{3} + \\frac{2 a_{4}}{5} + \\frac{2 a_{6}}{7}$"
      ],
      "text/plain": [
       "       2⋅a₂   2⋅a₄   2⋅a₆\n",
       "2⋅a₀ + ──── + ──── + ────\n",
       "        3      5      7  "
      ]
     },
     "metadata": {},
     "output_type": "display_data"
    },
    {
     "data": {
      "text/plain": [
       "'I2: '"
      ]
     },
     "metadata": {},
     "output_type": "display_data"
    },
    {
     "data": {
      "image/png": "[encoded data removed]",
      "text/latex": [
       "$\\displaystyle w_{1} \\left(a_{0} - a_{1} x_{1} + a_{2} x_{1}^{2} - a_{3} x_{1}^{3} + a_{4} x_{1}^{4} - a_{5} x_{1}^{5} + a_{6} x_{1}^{6} - a_{7} x_{1}^{7}\\right) + w_{1} \\left(a_{0} + a_{1} x_{1} + a_{2} x_{1}^{2} + a_{3} x_{1}^{3} + a_{4} x_{1}^{4} + a_{5} x_{1}^{5} + a_{6} x_{1}^{6} + a_{7} x_{1}^{7}\\right) + w_{2} \\left(a_{0} - a_{1} x_{2} + a_{2} x_{2}^{2} - a_{3} x_{2}^{3} + a_{4} x_{2}^{4} - a_{5} x_{2}^{5} + a_{6} x_{2}^{6} - a_{7} x_{2}^{7}\\right) + w_{2} \\left(a_{0} + a_{1} x_{2} + a_{2} x_{2}^{2} + a_{3} x_{2}^{3} + a_{4} x_{2}^{4} + a_{5} x_{2}^{5} + a_{6} x_{2}^{6} + a_{7} x_{2}^{7}\\right)$"
      ],
      "text/plain": [
       "   ⎛                  2        3        4        5        6        7⎞      ⎛  \n",
       "w₁⋅⎝a₀ - a₁⋅x₁ + a₂⋅x₁  - a₃⋅x₁  + a₄⋅x₁  - a₅⋅x₁  + a₆⋅x₁  - a₇⋅x₁ ⎠ + w₁⋅⎝a₀\n",
       "\n",
       "                2        3        4        5        6        7⎞      ⎛        \n",
       " + a₁⋅x₁ + a₂⋅x₁  + a₃⋅x₁  + a₄⋅x₁  + a₅⋅x₁  + a₆⋅x₁  + a₇⋅x₁ ⎠ + w₂⋅⎝a₀ - a₁⋅\n",
       "\n",
       "          2        3        4        5        6        7⎞      ⎛              \n",
       "x₂ + a₂⋅x₂  - a₃⋅x₂  + a₄⋅x₂  - a₅⋅x₂  + a₆⋅x₂  - a₇⋅x₂ ⎠ + w₂⋅⎝a₀ + a₁⋅x₂ + a\n",
       "\n",
       "    2        3        4        5        6        7⎞\n",
       "₂⋅x₂  + a₃⋅x₂  + a₄⋅x₂  + a₅⋅x₂  + a₆⋅x₂  + a₇⋅x₂ ⎠"
      ]
     },
     "metadata": {},
     "output_type": "display_data"
    },
    {
     "data": {
      "text/plain": [
       "'Eq1: '"
      ]
     },
     "metadata": {},
     "output_type": "display_data"
    },
    {
     "data": {
      "image/png": "[encoded data removed]",
      "text/latex": [
       "$\\displaystyle - 2 w_{1} - 2 w_{2} + 2$"
      ],
      "text/plain": [
       "-2⋅w₁ - 2⋅w₂ + 2"
      ]
     },
     "metadata": {},
     "output_type": "display_data"
    },
    {
     "data": {
      "text/plain": [
       "'Eq2: '"
      ]
     },
     "metadata": {},
     "output_type": "display_data"
    },
    {
     "data": {
      "image/png": "[encoded data removed]",
      "text/latex": [
       "$\\displaystyle 0$"
      ],
      "text/plain": [
       "0"
      ]
     },
     "metadata": {},
     "output_type": "display_data"
    },
    {
     "data": {
      "text/plain": [
       "'Eq3: '"
      ]
     },
     "metadata": {},
     "output_type": "display_data"
    },
    {
     "data": {
      "image/png": "[encoded data removed]",
      "text/latex": [
       "$\\displaystyle - 2 w_{1} x_{1}^{2} - 2 w_{2} x_{2}^{2} + \\frac{2}{3}$"
      ],
      "text/plain": [
       "         2          2   2\n",
       "- 2⋅w₁⋅x₁  - 2⋅w₂⋅x₂  + ─\n",
       "                        3"
      ]
     },
     "metadata": {},
     "output_type": "display_data"
    },
    {
     "data": {
      "text/plain": [
       "'Eq4: '"
      ]
     },
     "metadata": {},
     "output_type": "display_data"
    },
    {
     "data": {
      "image/png": "[encoded data removed]",
      "text/latex": [
       "$\\displaystyle 0$"
      ],
      "text/plain": [
       "0"
      ]
     },
     "metadata": {},
     "output_type": "display_data"
    },
    {
     "data": {
      "text/plain": [
       "'Eq5: '"
      ]
     },
     "metadata": {},
     "output_type": "display_data"
    },
    {
     "data": {
      "image/png": "[encoded data removed]",
      "text/latex": [
       "$\\displaystyle - 2 w_{1} x_{1}^{4} - 2 w_{2} x_{2}^{4} + \\frac{2}{5}$"
      ],
      "text/plain": [
       "         4          4   2\n",
       "- 2⋅w₁⋅x₁  - 2⋅w₂⋅x₂  + ─\n",
       "                        5"
      ]
     },
     "metadata": {},
     "output_type": "display_data"
    },
    {
     "data": {
      "text/plain": [
       "'Eq6: '"
      ]
     },
     "metadata": {},
     "output_type": "display_data"
    },
    {
     "data": {
      "image/png": "[encoded data removed]",
      "text/latex": [
       "$\\displaystyle 0$"
      ],
      "text/plain": [
       "0"
      ]
     },
     "metadata": {},
     "output_type": "display_data"
    },
    {
     "data": {
      "text/plain": [
       "'Eq7: '"
      ]
     },
     "metadata": {},
     "output_type": "display_data"
    },
    {
     "data": {
      "image/png": "[encoded data removed]",
      "text/latex": [
       "$\\displaystyle - 2 w_{1} x_{1}^{6} - 2 w_{2} x_{2}^{6} + \\frac{2}{7}$"
      ],
      "text/plain": [
       "         6          6   2\n",
       "- 2⋅w₁⋅x₁  - 2⋅w₂⋅x₂  + ─\n",
       "                        7"
      ]
     },
     "metadata": {},
     "output_type": "display_data"
    },
    {
     "data": {
      "text/plain": [
       "'Eq8: '"
      ]
     },
     "metadata": {},
     "output_type": "display_data"
    },
    {
     "data": {
      "image/png": "[encoded data removed]",
      "text/latex": [
       "$\\displaystyle 0$"
      ],
      "text/plain": [
       "0"
      ]
     },
     "metadata": {},
     "output_type": "display_data"
    },
    {
     "data": {
      "image/png": "[encoded data removed]",
      "text/latex": [
       "$\\displaystyle \\left[ \\left( \\sqrt{\\frac{3}{7} - \\frac{2 \\sqrt{30}}{35}}, \\  \\sqrt{\\frac{2 \\sqrt{30}}{35} + \\frac{3}{7}}, \\  \\frac{\\sqrt{30}}{36} + \\frac{1}{2}, \\  \\frac{1}{2} - \\frac{\\sqrt{30}}{36}\\right), \\  \\left( \\sqrt{\\frac{2 \\sqrt{30}}{35} + \\frac{3}{7}}, \\  \\sqrt{\\frac{3}{7} - \\frac{2 \\sqrt{30}}{35}}, \\  \\frac{1}{2} - \\frac{\\sqrt{30}}{36}, \\  \\frac{\\sqrt{30}}{36} + \\frac{1}{2}\\right), \\  \\left( - \\sqrt{\\frac{3}{7} - \\frac{2 \\sqrt{30}}{35}}, \\  \\sqrt{\\frac{2 \\sqrt{30}}{35} + \\frac{3}{7}}, \\  \\frac{\\sqrt{30}}{36} + \\frac{1}{2}, \\  \\frac{1}{2} - \\frac{\\sqrt{30}}{36}\\right), \\  \\left( \\sqrt{\\frac{3}{7} - \\frac{2 \\sqrt{30}}{35}}, \\  - \\sqrt{\\frac{2 \\sqrt{30}}{35} + \\frac{3}{7}}, \\  \\frac{\\sqrt{30}}{36} + \\frac{1}{2}, \\  \\frac{1}{2} - \\frac{\\sqrt{30}}{36}\\right), \\  \\left( - \\sqrt{\\frac{2 \\sqrt{30}}{35} + \\frac{3}{7}}, \\  \\sqrt{\\frac{3}{7} - \\frac{2 \\sqrt{30}}{35}}, \\  \\frac{1}{2} - \\frac{\\sqrt{30}}{36}, \\  \\frac{\\sqrt{30}}{36} + \\frac{1}{2}\\right), \\  \\left( \\sqrt{\\frac{2 \\sqrt{30}}{35} + \\frac{3}{7}}, \\  - \\sqrt{\\frac{3}{7} - \\frac{2 \\sqrt{30}}{35}}, \\  \\frac{1}{2} - \\frac{\\sqrt{30}}{36}, \\  \\frac{\\sqrt{30}}{36} + \\frac{1}{2}\\right), \\  \\left( - \\sqrt{\\frac{3}{7} - \\frac{2 \\sqrt{30}}{35}}, \\  - \\sqrt{\\frac{2 \\sqrt{30}}{35} + \\frac{3}{7}}, \\  \\frac{\\sqrt{30}}{36} + \\frac{1}{2}, \\  \\frac{1}{2} - \\frac{\\sqrt{30}}{36}\\right), \\  \\left( - \\sqrt{\\frac{2 \\sqrt{30}}{35} + \\frac{3}{7}}, \\  - \\sqrt{\\frac{3}{7} - \\frac{2 \\sqrt{30}}{35}}, \\  \\frac{1}{2} - \\frac{\\sqrt{30}}{36}, \\  \\frac{\\sqrt{30}}{36} + \\frac{1}{2}\\right)\\right]$"
      ],
      "text/plain": [
       "⎡⎛    ___________      ___________                  ⎞  ⎛    ___________      _\n",
       "⎢⎜   ╱ 3   2⋅√30      ╱ 2⋅√30   3   √30   1  1   √30⎟  ⎜   ╱ 2⋅√30   3      ╱ \n",
       "⎢⎜  ╱  ─ - ───── ,   ╱  ───── + ─ , ─── + ─, ─ - ───⎟, ⎜  ╱  ───── + ─ ,   ╱  \n",
       "⎣⎝╲╱   7     35    ╲╱     35    7    36   2  2    36⎠  ⎝╲╱     35    7   ╲╱   \n",
       "\n",
       "__________                  ⎞  ⎛     ___________      ___________             \n",
       "3   2⋅√30   1   √30  √30   1⎟  ⎜    ╱ 3   2⋅√30      ╱ 2⋅√30   3   √30   1  1 \n",
       "─ - ───── , ─ - ───, ─── + ─⎟, ⎜-  ╱  ─ - ───── ,   ╱  ───── + ─ , ─── + ─, ─ \n",
       "7     35    2    36   36   2⎠  ⎝ ╲╱   7     35    ╲╱     35    7    36   2  2 \n",
       "\n",
       "     ⎞  ⎛    ___________       ___________                  ⎞  ⎛     _________\n",
       "  √30⎟  ⎜   ╱ 3   2⋅√30       ╱ 2⋅√30   3   √30   1  1   √30⎟  ⎜    ╱ 2⋅√30   \n",
       "- ───⎟, ⎜  ╱  ─ - ───── , -  ╱  ───── + ─ , ─── + ─, ─ - ───⎟, ⎜-  ╱  ───── + \n",
       "   36⎠  ⎝╲╱   7     35     ╲╱     35    7    36   2  2    36⎠  ⎝ ╲╱     35    \n",
       "\n",
       "__      ___________                  ⎞  ⎛    ___________       ___________    \n",
       "3      ╱ 3   2⋅√30   1   √30  √30   1⎟  ⎜   ╱ 2⋅√30   3       ╱ 3   2⋅√30   1 \n",
       "─ ,   ╱  ─ - ───── , ─ - ───, ─── + ─⎟, ⎜  ╱  ───── + ─ , -  ╱  ─ - ───── , ─ \n",
       "7   ╲╱   7     35    2    36   36   2⎠  ⎝╲╱     35    7    ╲╱   7     35    2 \n",
       "\n",
       "              ⎞  ⎛     ___________       ___________                  ⎞  ⎛    \n",
       "  √30  √30   1⎟  ⎜    ╱ 3   2⋅√30       ╱ 2⋅√30   3   √30   1  1   √30⎟  ⎜    \n",
       "- ───, ─── + ─⎟, ⎜-  ╱  ─ - ───── , -  ╱  ───── + ─ , ─── + ─, ─ - ───⎟, ⎜-  ╱\n",
       "   36   36   2⎠  ⎝ ╲╱   7     35     ╲╱     35    7    36   2  2    36⎠  ⎝ ╲╱ \n",
       "\n",
       " ___________       ___________                  ⎞⎤\n",
       "╱ 2⋅√30   3       ╱ 3   2⋅√30   1   √30  √30   1⎟⎥\n",
       "  ───── + ─ , -  ╱  ─ - ───── , ─ - ───, ─── + ─⎟⎥\n",
       "    35    7    ╲╱   7     35    2    36   36   2⎠⎦"
      ]
     },
     "metadata": {},
     "output_type": "display_data"
    }
   ],
   "source": [
    "import sympy as sp\n",
    "sp.init_printing(use_latex=True)\n",
    "x, x1, x2, x3, x4 = sp.symbols('x x1 x2 x3 x4')\n",
    "a0, a1, a2, a3, a4, a5, a6, a7 = sp.symbols('a0 a1 a2 a3 a4 a5 a6 a7')\n",
    "w1, w2, w3, w4 = sp.symbols('w1 w2 w3 w4')\n",
    "f = a0 + a1*x + a2*x**2 + a3*x**3 + a4*x**4 + a5*x**5 + a6*x**6 + a7*x**7\n",
    "I1 = sp.integrate(f, (x, -1, 1)).subs({x3:-x1,x4:-x2,w3:w1,w4:w2})\n",
    "I2 = (w1*(f.subs(x, x1)) + w2*(f.subs(x, x2)) + w3*(f.subs(x, x3)) +  w4*(f.subs(x, x4))).subs({x3:-x1,x4:-x2,w3:w1,w4:w2})\n",
    "display(\"I1: \",I1)\n",
    "display(\"I2: \",I2)\n",
    "Eq1 = sp.expand(I1 - I2).coeff(a0)\n",
    "Eq2 = sp.expand(I1 - I2).coeff(a1)\n",
    "Eq3 = sp.expand(I1 - I2).coeff(a2)\n",
    "Eq4 = sp.expand(I1 - I2).coeff(a3)\n",
    "Eq5 = sp.expand(I1 - I2).coeff(a4)\n",
    "Eq6 = sp.expand(I1 - I2).coeff(a5)\n",
    "Eq7 = sp.expand(I1 - I2).coeff(a6)\n",
    "Eq8 = sp.expand(I1 - I2).coeff(a7)\n",
    "display(\"Eq1: \",Eq1)\n",
    "display(\"Eq2: \",Eq2)\n",
    "display(\"Eq3: \",Eq3)\n",
    "display(\"Eq4: \",Eq4)\n",
    "display(\"Eq5: \",Eq5)\n",
    "display(\"Eq6: \",Eq6)\n",
    "display(\"Eq7: \",Eq7)\n",
    "display(\"Eq8: \",Eq8)\n",
    "sol = list(sp.nonlinsolve([Eq1, Eq3, Eq5, Eq7], [x1, x2, w1, w2]))\n",
    "display(sol)"
   ]
  },
  {
   "cell_type": "code",
   "execution_count": null,
   "id": "8b180bfb",
   "metadata": {},
   "outputs": [],
   "source": []
  }
 ],
 "metadata": {
  "kernelspec": {
   "display_name": "Python 3 (ipykernel)",
   "language": "python",
   "name": "python3"
  },
  "language_info": {
   "codemirror_mode": {
    "name": "ipython",
    "version": 3
   },
   "file_extension": ".py",
   "mimetype": "text/x-python",
   "name": "python",
   "nbconvert_exporter": "python",
   "pygments_lexer": "ipython3",
   "version": "3.9.12"
  }
 },
 "nbformat": 4,
 "nbformat_minor": 5
}
