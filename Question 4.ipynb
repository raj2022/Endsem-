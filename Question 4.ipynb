{
 "cells": [
  {
   "cell_type": "code",
   "execution_count": 7,
   "id": "7e2bc70c",
   "metadata": {},
   "outputs": [],
   "source": [
    "import sympy as sp\n",
    "import pandas as pd\n",
    "import numpy as np"
   ]
  },
  {
   "cell_type": "code",
   "execution_count": 8,
   "id": "8b180bfb",
   "metadata": {},
   "outputs": [
    {
     "data": {
      "text/html": [
       "<div>\n",
       "<style scoped>\n",
       "    .dataframe tbody tr th:only-of-type {\n",
       "        vertical-align: middle;\n",
       "    }\n",
       "\n",
       "    .dataframe tbody tr th {\n",
       "        vertical-align: top;\n",
       "    }\n",
       "\n",
       "    .dataframe thead th {\n",
       "        text-align: right;\n",
       "    }\n",
       "</style>\n",
       "<table border=\"1\" class=\"dataframe\">\n",
       "  <thead>\n",
       "    <tr style=\"text-align: right;\">\n",
       "      <th></th>\n",
       "      <th>Integration Points</th>\n",
       "      <th>Corresponding Weights</th>\n",
       "    </tr>\n",
       "  </thead>\n",
       "  <tbody>\n",
       "    <tr>\n",
       "      <th>0</th>\n",
       "      <td>[0.861136311, 0.339981043, -0.339981043, -0.86...</td>\n",
       "      <td>[0.347854845, 0.652145154, 0.652145154, 0.3478...</td>\n",
       "    </tr>\n",
       "    <tr>\n",
       "      <th>1</th>\n",
       "      <td>[0.906179845, 0.53846931, 0, -0.53846931, -0.9...</td>\n",
       "      <td>[0.236926885, 0.47862867, 0.56888889, 0.478628...</td>\n",
       "    </tr>\n",
       "    <tr>\n",
       "      <th>2</th>\n",
       "      <td>[0.932469514, 0.661209386, 0.238619186, -0.238...</td>\n",
       "      <td>[0.171324492, 0.360761573, 0.467913934, 0.4679...</td>\n",
       "    </tr>\n",
       "  </tbody>\n",
       "</table>\n",
       "</div>"
      ],
      "text/plain": [
       "                                  Integration Points  \\\n",
       "0  [0.861136311, 0.339981043, -0.339981043, -0.86...   \n",
       "1  [0.906179845, 0.53846931, 0, -0.53846931, -0.9...   \n",
       "2  [0.932469514, 0.661209386, 0.238619186, -0.238...   \n",
       "\n",
       "                               Corresponding Weights  \n",
       "0  [0.347854845, 0.652145154, 0.652145154, 0.3478...  \n",
       "1  [0.236926885, 0.47862867, 0.56888889, 0.478628...  \n",
       "2  [0.171324492, 0.360761573, 0.467913934, 0.4679...  "
      ]
     },
     "metadata": {},
     "output_type": "display_data"
    }
   ],
   "source": [
    "GaussTable = [[[0.861136311, 0.339981043, -0.339981043, -0.861136311], [0.347854845, 0.652145154, 0.652145154, 0.347854845]],\n",
    "              [[0.906179845, 0.538469310, 0, -0.538469310, -0.906179845], [0.236926885, 0.478628670, 0.56888889, 0.478628670, 0.236926885]],\n",
    "              [[0.932469514, 0.661209386, 0.238619186, -0.238619186, -0.661209386, -0.932469514], [0.171324492, 0.360761573, 0.467913934, 0.467913934, 0.360761573,  0.171324492]]]\n",
    "display(pd.DataFrame(GaussTable, columns=[\"Integration Points\", \"Corresponding Weights\"]))"
   ]
  },
  {
   "cell_type": "code",
   "execution_count": 9,
   "id": "16916c69",
   "metadata": {},
   "outputs": [
    {
     "data": {
      "text/html": [
       "<div>\n",
       "<style scoped>\n",
       "    .dataframe tbody tr th:only-of-type {\n",
       "        vertical-align: middle;\n",
       "    }\n",
       "\n",
       "    .dataframe tbody tr th {\n",
       "        vertical-align: top;\n",
       "    }\n",
       "\n",
       "    .dataframe thead th {\n",
       "        text-align: right;\n",
       "    }\n",
       "</style>\n",
       "<table border=\"1\" class=\"dataframe\">\n",
       "  <thead>\n",
       "    <tr style=\"text-align: right;\">\n",
       "      <th></th>\n",
       "      <th>Number of Integration Points</th>\n",
       "      <th>Numerical Integration Results</th>\n",
       "    </tr>\n",
       "  </thead>\n",
       "  <tbody>\n",
       "    <tr>\n",
       "      <th>0</th>\n",
       "      <td>4</td>\n",
       "      <td>1.762054179</td>\n",
       "    </tr>\n",
       "    <tr>\n",
       "      <th>1</th>\n",
       "      <td>5</td>\n",
       "      <td>1.762855296</td>\n",
       "    </tr>\n",
       "    <tr>\n",
       "      <th>2</th>\n",
       "      <td>6</td>\n",
       "      <td>1.762730048</td>\n",
       "    </tr>\n",
       "  </tbody>\n",
       "</table>\n",
       "</div>"
      ],
      "text/plain": [
       "   Number of Integration Points Numerical Integration Results\n",
       "0                             4                   1.762054179\n",
       "1                             5                   1.762855296\n",
       "2                             6                   1.762730048"
      ]
     },
     "metadata": {},
     "output_type": "display_data"
    }
   ],
   "source": [
    "def IG(f, n):\n",
    "    n = int(n)\n",
    "    return sum([GaussTable[n - 4][1][i]*f(GaussTable[n - 4][0][i]) for i in range(n)])\n",
    "def f(x): \n",
    "    return 1/np.power((1 + x**2),0.5)\n",
    "#Iexact, error = integrate.quad(f, -1, 1)\n",
    "#print(\"Iexact: \",Iexact)\n",
    "table = [[i + 4, round(sp.N(IG(f, i + 4)),9)] for i in range(3)]             #truncating to 1e-9, 9 decimal places\n",
    "table = pd.DataFrame(table, columns=[\"Number of Integration Points\",  \"Numerical Integration Results\"])\n",
    "display(table)"
   ]
  },
  {
   "cell_type": "code",
   "execution_count": 10,
   "id": "d5235cf8",
   "metadata": {},
   "outputs": [],
   "source": [
    "res = table[\"Numerical Integration Results\"]"
   ]
  },
  {
   "cell_type": "code",
   "execution_count": 11,
   "id": "75631d33",
   "metadata": {},
   "outputs": [
    {
     "data": {
      "text/html": [
       "<div>\n",
       "<style scoped>\n",
       "    .dataframe tbody tr th:only-of-type {\n",
       "        vertical-align: middle;\n",
       "    }\n",
       "\n",
       "    .dataframe tbody tr th {\n",
       "        vertical-align: top;\n",
       "    }\n",
       "\n",
       "    .dataframe thead th {\n",
       "        text-align: right;\n",
       "    }\n",
       "</style>\n",
       "<table border=\"1\" class=\"dataframe\">\n",
       "  <thead>\n",
       "    <tr style=\"text-align: right;\">\n",
       "      <th></th>\n",
       "      <th>Numerical Integration Results</th>\n",
       "      <th>rel_err wrt 4pt</th>\n",
       "      <th>rel_err wrt 5pt</th>\n",
       "      <th>rel_err wrt 6pt</th>\n",
       "    </tr>\n",
       "  </thead>\n",
       "  <tbody>\n",
       "    <tr>\n",
       "      <th>0</th>\n",
       "      <td>1.762054179</td>\n",
       "      <td>0</td>\n",
       "      <td>-0.0004544428582</td>\n",
       "      <td>-0.0003834217272</td>\n",
       "    </tr>\n",
       "    <tr>\n",
       "      <th>1</th>\n",
       "      <td>1.762855296</td>\n",
       "      <td>0.0004546494704</td>\n",
       "      <td>0</td>\n",
       "      <td>7.105342070e-5</td>\n",
       "    </tr>\n",
       "    <tr>\n",
       "      <th>2</th>\n",
       "      <td>1.762730048</td>\n",
       "      <td>0.0003835687959</td>\n",
       "      <td>-7.104837247e-5</td>\n",
       "      <td>0</td>\n",
       "    </tr>\n",
       "  </tbody>\n",
       "</table>\n",
       "</div>"
      ],
      "text/plain": [
       "  Numerical Integration Results  rel_err wrt 4pt   rel_err wrt 5pt  \\\n",
       "0                   1.762054179                0  -0.0004544428582   \n",
       "1                   1.762855296  0.0004546494704                 0   \n",
       "2                   1.762730048  0.0003835687959   -7.104837247e-5   \n",
       "\n",
       "    rel_err wrt 6pt  \n",
       "0  -0.0003834217272  \n",
       "1    7.105342070e-5  \n",
       "2                 0  "
      ]
     },
     "metadata": {},
     "output_type": "display_data"
    }
   ],
   "source": [
    "table1 = [[res[i],(res[i]-res[0])/res[0],(res[i]-res[1])/res[1],(res[i]-res[2])/res[2]] for i in range(3)]\n",
    "table1 = pd.DataFrame(table1,columns=[\"Numerical Integration Results\",\"rel_err wrt 4pt\", \"rel_err wrt 5pt\", \"rel_err wrt 6pt\"])\n",
    "display(table1)"
   ]
  },
  {
   "cell_type": "code",
   "execution_count": null,
   "id": "a30efc6f",
   "metadata": {},
   "outputs": [],
   "source": []
  }
 ],
 "metadata": {
  "kernelspec": {
   "display_name": "Python 3 (ipykernel)",
   "language": "python",
   "name": "python3"
  },
  "language_info": {
   "codemirror_mode": {
    "name": "ipython",
    "version": 3
   },
   "file_extension": ".py",
   "mimetype": "text/x-python",
   "name": "python",
   "nbconvert_exporter": "python",
   "pygments_lexer": "ipython3",
   "version": "3.9.7"
  }
 },
 "nbformat": 4,
 "nbformat_minor": 5
}
