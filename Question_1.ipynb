{
 "cells": [
  {
   "cell_type": "markdown",
   "id": "acd22651",
   "metadata": {},
   "source": [
    "2-dimensional random walk of N =200 Steps, starting from origin"
   ]
  },
  {
   "cell_type": "code",
   "execution_count": 1,
   "id": "8b00e7b3",
   "metadata": {},
   "outputs": [],
   "source": [
    "import numpy as np\n",
    "import matplotlib.pyplot as plt\n",
    "import random"
   ]
  },
  {
   "cell_type": "code",
   "execution_count": 2,
   "id": "7cdf5a9b",
   "metadata": {},
   "outputs": [
    {
     "name": "stdout",
     "output_type": "stream",
     "text": [
      "0 3 1719 411 5761 2714 12597 14228 13443 6710 4969 8358 13908 10594 15182 2177 291 2645 5891 11550 5060 11267 6994 3607 15582 1643 6082 6135 3689 13343 15034 15807 15676 6268 14241 4498 1042 6311 6075 2131 6741 6320 11223 14588 6410 13560 8110 3100 4055 9742 2887 13267 4324 16181 270 7014 15047 6862 10008 7610 11958 9102 13570 13830 15121 47 10506 13989 7783 12628 15579 16308 7390 785 6736 3460 13403 211 6028 8009 10852 15329 4356 1723 2699 4017 4387 3074 5564 4697 203 1452 11497 7506 1613 5303 2834 15713 11051 14490 15878 7145 8074 15270 3370 11066 6689 9338 1133 9220 15542 11525 7141 5786 633 1697 4208 15353 1703 7640 12737 12403 1546 16122 15665 16357 2656 12183 6754 13756 5555 15930 4127 1783 4257 10619 13101 7658 6652 4555 884 14221 9439 9762 14327 4547 12689 1328 6093 12427 15274 5658 9322 8362 16196 8850 474 9035 8008 10280 15765 8033 8199 4865 14394 10109 16239 684 14488 14734 8017 15428 11841 7702 15439 1752 2906 7754 12421 11842 8274 15003 14456 12811 5588 2044 6120 11490 3502 4665 14661 15404 14494 1785 5401 9747 5747 11087 2320 182 "
     ]
    }
   ],
   "source": [
    "# Function to generate random numbers\n",
    "def linearCongruentialMethod(Xo, m, a, c, randomNums, noOfRandomNums):\n",
    "\n",
    "    # Initialize the seed state\n",
    "    randomNums[0] = Xo\n",
    "\n",
    "    # Traverse to generate required\n",
    "    # numbers of random numbers\n",
    "    for i in range(1, noOfRandomNums):\n",
    "        # Follow the linear congruential method\n",
    "        randomNums[i] = ((randomNums[i - 1] * a) + c)% m\n",
    "\n",
    "\n",
    "# Seed value\n",
    "Xo = 0\n",
    "\n",
    "# Modulus parameter\n",
    "m = 16381\n",
    "\n",
    "# Multiplier term\n",
    "a = 572\n",
    "\n",
    "# Increment term\n",
    "c = 3\n",
    "\n",
    "# Number of Random numbers\n",
    "# to be generated\n",
    "noOfRandomNums = 200\n",
    "\n",
    "# To store random numbers\n",
    "randomNums = [0] * (noOfRandomNums)\n",
    "\n",
    "# Function Call\n",
    "linearCongruentialMethod(Xo, m, a, c,\n",
    "                                randomNums,\n",
    "                                noOfRandomNums)\n",
    "\n",
    "# Print the generated random numbers\n",
    "for i in randomNums:\n",
    "    print(i, end = \" \")\n",
    "\n"
   ]
  },
  {
   "cell_type": "code",
   "execution_count": 11,
   "id": "4ff9ca14",
   "metadata": {},
   "outputs": [],
   "source": [
    "def randomwalk2D(n):\n",
    "    #[0, 0, 0, ....., 0]\n",
    "    x = np.zeros(n)\n",
    "    y = np.zeros(n)\n",
    "    \n",
    "    directions = [\"UP\", \"DOWN\", \"LEFT\", \"RIGHT\"]\n",
    "    for i in range(1,n):\n",
    "        #pick a direction at random\n",
    "        step = random.choice(directions)\n",
    "        \n",
    "        # Move the object according to the directions\n",
    "        if step == \"RIGHT\":\n",
    "            x[i] = x[i-1] + 1\n",
    "            y[i]= y[i-1]\n",
    "        elif step == \"LEFT\":\n",
    "            x[i]= x[i-1] -1\n",
    "            y[i] = y[i-1]\n",
    "            \n",
    "        elif step ==\"UP\":\n",
    "            x[i]=x[i-1]\n",
    "            y[i]=y[i-1]+1\n",
    "        \n",
    "        elif step == \"DOWN\":\n",
    "            x[i] = x[i - 1]\n",
    "            y[i] = y[i - 1] - 1\n",
    "    \n",
    "    # Return all the x and y positions of the object\n",
    "    return x, y\n",
    "            "
   ]
  },
  {
   "cell_type": "code",
   "execution_count": 24,
   "id": "9729b517",
   "metadata": {},
   "outputs": [
    {
     "data": {
      "image/png": "[encoded data removed]",
      "text/plain": [
       "<Figure size 576x576 with 1 Axes>"
      ]
     },
     "metadata": {
      "needs_background": "light"
     },
     "output_type": "display_data"
    },
    {
     "data": {
      "text/plain": [
       "<Figure size 432x288 with 0 Axes>"
      ]
     },
     "metadata": {},
     "output_type": "display_data"
    }
   ],
   "source": [
    "x_data, y_data = randomwalk2D(200)\n",
    "\n",
    "plt.figure(figsize=(8,8))\n",
    "plt.title(\"2D Random Walkfor 200 steps\")\n",
    "plt.plot(x_data, y_data)\n",
    "plt.show()\n",
    "plt.savefig('200.png')"
   ]
  },
  {
   "cell_type": "code",
   "execution_count": 25,
   "id": "8e462e46",
   "metadata": {},
   "outputs": [
    {
     "data": {
      "image/png": "[encoded data removed]",
      "text/plain": [
       "<Figure size 576x576 with 1 Axes>"
      ]
     },
     "metadata": {
      "needs_background": "light"
     },
     "output_type": "display_data"
    },
    {
     "data": {
      "text/plain": [
       "<Figure size 432x288 with 0 Axes>"
      ]
     },
     "metadata": {},
     "output_type": "display_data"
    }
   ],
   "source": [
    "x_data_1, y_data_1 = randomwalk2D(500)\n",
    "\n",
    "plt.figure(figsize=(8,8))\n",
    "plt.title(\"2D Random Walk for 500 steps\")\n",
    "plt.plot(x_data_1, y_data_1)\n",
    "plt.show()\n",
    "plt.savefig('550.png')"
   ]
  },
  {
   "cell_type": "code",
   "execution_count": 28,
   "id": "c21cbb3b",
   "metadata": {},
   "outputs": [],
   "source": [
    "# input path =[ [x1,y1], ... ,[xn,yn] ].\n",
    "\n",
    "def compute_MSD():\n",
    "    totalsize=len(path)\n",
    "    msd=[]\n",
    "    for i in range(totalsize-1):\n",
    "        j=i+1\n",
    "        msd.append(np.sum((path[0:-j]-path[j::])**2)/float(totalsize-j))\n",
    "\n",
    "    msd=np.array(msd)\n",
    "    return msd"
   ]
  },
  {
   "cell_type": "code",
   "execution_count": 29,
   "id": "7c67cb9a",
   "metadata": {},
   "outputs": [
    {
     "name": "stdout",
     "output_type": "stream",
     "text": [
      "Square root of 500 is: 22.360679774997898\n"
     ]
    }
   ],
   "source": [
    "# here the square root of 500 is \n",
    "print('Square root of 500 is:',np.sqrt(500))"
   ]
  },
  {
   "cell_type": "code",
   "execution_count": null,
   "id": "38162648",
   "metadata": {},
   "outputs": [],
   "source": []
  },
  {
   "cell_type": "code",
   "execution_count": null,
   "id": "09bcb754",
   "metadata": {},
   "outputs": [],
   "source": []
  }
 ],
 "metadata": {
  "kernelspec": {
   "display_name": "Python 3 (ipykernel)",
   "language": "python",
   "name": "python3"
  },
  "language_info": {
   "codemirror_mode": {
    "name": "ipython",
    "version": 3
   },
   "file_extension": ".py",
   "mimetype": "text/x-python",
   "name": "python",
   "nbconvert_exporter": "python",
   "pygments_lexer": "ipython3",
   "version": "3.9.12"
  }
 },
 "nbformat": 4,
 "nbformat_minor": 5
}
