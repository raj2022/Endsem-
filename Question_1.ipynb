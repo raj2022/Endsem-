{
 "cells": [
  {
   "cell_type": "markdown",
   "id": "acd22651",
   "metadata": {},
   "source": [
    "2-dimensional random walk of N =200 Steps, starting from origin"
   ]
  },
  {
   "cell_type": "code",
   "execution_count": 3,
   "id": "8b00e7b3",
   "metadata": {},
   "outputs": [],
   "source": [
    "import numpy as np\n",
    "import matplotlib.pyplot as plt\n",
    "import random\n",
    "import pandas as pd\n"
   ]
  },
  {
   "cell_type": "code",
   "execution_count": 4,
   "id": "38162648",
   "metadata": {},
   "outputs": [],
   "source": [
    "import time\n",
    "\n",
    "seed = time.time()\n",
    "\n",
    "def mlcg(am):\n",
    "    global seed\n",
    "    #print(\"seed_o\",seed)\n",
    "    seed = (am[0]*seed) % am[1]\n",
    "    #print(\"seed_n\",seed)\n",
    "    return seed/am[1]\n",
    "\n",
    "am = [572,16381]"
   ]
  },
  {
   "cell_type": "code",
   "execution_count": 7,
   "id": "09bcb754",
   "metadata": {},
   "outputs": [],
   "source": [
    "def rand_2dwalk(steps):\n",
    "    n = steps\n",
    "    x = np.zeros(n)\n",
    "    y = np.zeros(n)\n",
    "\n",
    "    # filling the coordinates with random variables\n",
    "    for i in range(1, n):\n",
    "        val = np.abs(mlcg(am))\n",
    "        if val < 0.25:\n",
    "            x[i] = x[i - 1] + 1\n",
    "            y[i] = y[i - 1]\n",
    "        elif val < 0.5:\n",
    "            x[i] = x[i - 1] - 1\n",
    "            y[i] = y[i - 1]\n",
    "        elif val < 0.75:\n",
    "            x[i] = x[i - 1]\n",
    "            y[i] = y[i - 1] + 1\n",
    "        else:\n",
    "            x[i] = x[i - 1]\n",
    "            y[i] = y[i - 1] - 1\n",
    "    \n",
    "    d = np.power(x[n-1]**2 + y[n-1]**2,0.5)\n",
    "    \n",
    "    return x,y,d\n",
    "\n",
    " "
   ]
  },
  {
   "cell_type": "code",
   "execution_count": 9,
   "id": "0de105a0",
   "metadata": {},
   "outputs": [
    {
     "data": {
      "text/plain": [
       "Text(0.5, 1.0, 'Random Walk n = 200 steps')"
      ]
     },
     "execution_count": 9,
     "metadata": {},
     "output_type": "execute_result"
    },
    {
     "data": {
      "image/png": "[encoded data removed]",
      "text/plain": [
       "<Figure size 432x288 with 1 Axes>"
      ]
     },
     "metadata": {
      "needs_background": "light"
     },
     "output_type": "display_data"
    }
   ],
   "source": [
    "r200 = rand_2dwalk(200)\n",
    "plt.plot(r200[0],r200[1])\n",
    "plt.title(\"Random Walk n = 200 steps\")"
   ]
  },
  {
   "cell_type": "code",
   "execution_count": 10,
   "id": "8835ebee",
   "metadata": {},
   "outputs": [
    {
     "name": "stdout",
     "output_type": "stream",
     "text": [
      "Difference is -0.24163203573098357 hence R_rms ~ N^1/2\n"
     ]
    }
   ],
   "source": [
    "#R_rms over 500 walks of N=200 steps\n",
    "\n",
    "walks = 500\n",
    "d = np.zeros(walks)\n",
    "sm = 0\n",
    "for i in range(walks):\n",
    "    d[i] = rand_2dwalk(200)[2]\n",
    "    sm += d[i]**2\n",
    "\n",
    "R_rms = np.power(sm/walks,0.5)\n",
    "\n",
    "print(f\"Difference is {R_rms - 200**0.5} hence R_rms ~ N^1/2\")\n"
   ]
  },
  {
   "cell_type": "code",
   "execution_count": 11,
   "id": "bec71ab9",
   "metadata": {},
   "outputs": [
    {
     "data": {
      "text/plain": [
       "13.900503587999967"
      ]
     },
     "execution_count": 11,
     "metadata": {},
     "output_type": "execute_result"
    }
   ],
   "source": [
    "R_rms"
   ]
  },
  {
   "cell_type": "code",
   "execution_count": null,
   "id": "8c3c7e53",
   "metadata": {},
   "outputs": [],
   "source": []
  }
 ],
 "metadata": {
  "kernelspec": {
   "display_name": "Python 3 (ipykernel)",
   "language": "python",
   "name": "python3"
  },
  "language_info": {
   "codemirror_mode": {
    "name": "ipython",
    "version": 3
   },
   "file_extension": ".py",
   "mimetype": "text/x-python",
   "name": "python",
   "nbconvert_exporter": "python",
   "pygments_lexer": "ipython3",
   "version": "3.9.7"
  }
 },
 "nbformat": 4,
 "nbformat_minor": 5
}
