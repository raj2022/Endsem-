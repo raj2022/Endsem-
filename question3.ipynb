{
 "cells": [
  {
   "cell_type": "markdown",
   "id": "f6c93328",
   "metadata": {},
   "source": [
    "1-D heat equation "
   ]
  },
  {
   "cell_type": "code",
   "execution_count": null,
   "id": "9928157a",
   "metadata": {},
   "outputs": [],
   "source": [
    "l = 2\n"
   ]
  },
  {
   "cell_type": "code",
   "execution_count": null,
   "id": "63965d17",
   "metadata": {},
   "outputs": [],
   "source": []
  },
  {
   "cell_type": "code",
   "execution_count": null,
   "id": "1eb4fedc",
   "metadata": {},
   "outputs": [],
   "source": []
  },
  {
   "cell_type": "code",
   "execution_count": null,
   "id": "70848145",
   "metadata": {},
   "outputs": [],
   "source": []
  }
 ],
 "metadata": {
  "kernelspec": {
   "display_name": "Python 3 (ipykernel)",
   "language": "python",
   "name": "python3"
  },
  "language_info": {
   "codemirror_mode": {
    "name": "ipython",
    "version": 3
   },
   "file_extension": ".py",
   "mimetype": "text/x-python",
   "name": "python",
   "nbconvert_exporter": "python",
   "pygments_lexer": "ipython3",
   "version": "3.9.12"
  }
 },
 "nbformat": 4,
 "nbformat_minor": 5
}
